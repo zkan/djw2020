{
 "cells": [
  {
   "cell_type": "markdown",
   "metadata": {},
   "source": [
    "# Novel Corona Virus 2019 Dataset\n",
    "## Day level information on 2019-nCoV affected cases"
   ]
  },
  {
   "cell_type": "markdown",
   "metadata": {},
   "source": [
    "https://www.kaggle.com/sudalairajkumar/novel-corona-virus-2019-dataset/"
   ]
  },
  {
   "cell_type": "markdown",
   "metadata": {},
   "source": [
    "https://github.com/pbugnion/gmaps"
   ]
  },
  {
   "cell_type": "code",
   "execution_count": 14,
   "metadata": {},
   "outputs": [],
   "source": [
    "import gmaps"
   ]
  },
  {
   "cell_type": "code",
   "execution_count": 15,
   "metadata": {},
   "outputs": [
    {
     "name": "stdout",
     "output_type": "stream",
     "text": [
      "Enabling notebook extension jupyter-gmaps/extension...\r\n",
      "      - Validating: \u001b[32mOK\u001b[0m\r\n"
     ]
    }
   ],
   "source": [
    "!jupyter nbextension enable --py gmaps"
   ]
  },
  {
   "cell_type": "code",
   "execution_count": 16,
   "metadata": {},
   "outputs": [],
   "source": [
    "import pandas as pd"
   ]
  },
  {
   "cell_type": "code",
   "execution_count": 17,
   "metadata": {},
   "outputs": [],
   "source": [
    "df = pd.read_csv('time_series_2019_ncov_confirmed.csv')"
   ]
  },
  {
   "cell_type": "code",
   "execution_count": 18,
   "metadata": {},
   "outputs": [
    {
     "data": {
      "text/html": [
       "<div>\n",
       "<style scoped>\n",
       "    .dataframe tbody tr th:only-of-type {\n",
       "        vertical-align: middle;\n",
       "    }\n",
       "\n",
       "    .dataframe tbody tr th {\n",
       "        vertical-align: top;\n",
       "    }\n",
       "\n",
       "    .dataframe thead th {\n",
       "        text-align: right;\n",
       "    }\n",
       "</style>\n",
       "<table border=\"1\" class=\"dataframe\">\n",
       "  <thead>\n",
       "    <tr style=\"text-align: right;\">\n",
       "      <th></th>\n",
       "      <th>Province/State</th>\n",
       "      <th>Country/Region</th>\n",
       "      <th>Lat</th>\n",
       "      <th>Long</th>\n",
       "      <th>1/21/20 22:00</th>\n",
       "      <th>1/22/20 12:00</th>\n",
       "      <th>1/23/20 12:00</th>\n",
       "      <th>1/24/20 0:00</th>\n",
       "      <th>1/24/20 12:00</th>\n",
       "      <th>1/25/20 0:00</th>\n",
       "      <th>...</th>\n",
       "      <th>02/05/20 9:00</th>\n",
       "      <th>02/05/20 23:00</th>\n",
       "      <th>02/06/20 9:00</th>\n",
       "      <th>02/06/20 14:20</th>\n",
       "      <th>02/07/20 20:13</th>\n",
       "      <th>02/07/20 22:50</th>\n",
       "      <th>02/08/20 22:04</th>\n",
       "      <th>02/08/20 23:04</th>\n",
       "      <th>02/09/20 10:30</th>\n",
       "      <th>02/09/20 23:20</th>\n",
       "    </tr>\n",
       "  </thead>\n",
       "  <tbody>\n",
       "    <tr>\n",
       "      <th>0</th>\n",
       "      <td>Anhui</td>\n",
       "      <td>Mainland China</td>\n",
       "      <td>31.82571</td>\n",
       "      <td>117.2264</td>\n",
       "      <td>NaN</td>\n",
       "      <td>1.0</td>\n",
       "      <td>9.0</td>\n",
       "      <td>15.0</td>\n",
       "      <td>15.0</td>\n",
       "      <td>39.0</td>\n",
       "      <td>...</td>\n",
       "      <td>530.0</td>\n",
       "      <td>591.0</td>\n",
       "      <td>591.0</td>\n",
       "      <td>591.0</td>\n",
       "      <td>665</td>\n",
       "      <td>733</td>\n",
       "      <td>733</td>\n",
       "      <td>779</td>\n",
       "      <td>779</td>\n",
       "      <td>830</td>\n",
       "    </tr>\n",
       "    <tr>\n",
       "      <th>1</th>\n",
       "      <td>Beijing</td>\n",
       "      <td>Mainland China</td>\n",
       "      <td>40.18238</td>\n",
       "      <td>116.4142</td>\n",
       "      <td>10.0</td>\n",
       "      <td>14.0</td>\n",
       "      <td>22.0</td>\n",
       "      <td>26.0</td>\n",
       "      <td>36.0</td>\n",
       "      <td>36.0</td>\n",
       "      <td>...</td>\n",
       "      <td>253.0</td>\n",
       "      <td>274.0</td>\n",
       "      <td>274.0</td>\n",
       "      <td>274.0</td>\n",
       "      <td>297</td>\n",
       "      <td>315</td>\n",
       "      <td>315</td>\n",
       "      <td>326</td>\n",
       "      <td>326</td>\n",
       "      <td>337</td>\n",
       "    </tr>\n",
       "    <tr>\n",
       "      <th>2</th>\n",
       "      <td>Chongqing</td>\n",
       "      <td>Mainland China</td>\n",
       "      <td>30.05718</td>\n",
       "      <td>107.8740</td>\n",
       "      <td>5.0</td>\n",
       "      <td>6.0</td>\n",
       "      <td>9.0</td>\n",
       "      <td>27.0</td>\n",
       "      <td>27.0</td>\n",
       "      <td>57.0</td>\n",
       "      <td>...</td>\n",
       "      <td>376.0</td>\n",
       "      <td>389.0</td>\n",
       "      <td>400.0</td>\n",
       "      <td>400.0</td>\n",
       "      <td>415</td>\n",
       "      <td>426</td>\n",
       "      <td>428</td>\n",
       "      <td>446</td>\n",
       "      <td>450</td>\n",
       "      <td>468</td>\n",
       "    </tr>\n",
       "    <tr>\n",
       "      <th>3</th>\n",
       "      <td>Fujian</td>\n",
       "      <td>Mainland China</td>\n",
       "      <td>26.07783</td>\n",
       "      <td>117.9895</td>\n",
       "      <td>NaN</td>\n",
       "      <td>1.0</td>\n",
       "      <td>5.0</td>\n",
       "      <td>5.0</td>\n",
       "      <td>10.0</td>\n",
       "      <td>10.0</td>\n",
       "      <td>...</td>\n",
       "      <td>205.0</td>\n",
       "      <td>215.0</td>\n",
       "      <td>215.0</td>\n",
       "      <td>215.0</td>\n",
       "      <td>224</td>\n",
       "      <td>239</td>\n",
       "      <td>239</td>\n",
       "      <td>250</td>\n",
       "      <td>250</td>\n",
       "      <td>261</td>\n",
       "    </tr>\n",
       "    <tr>\n",
       "      <th>4</th>\n",
       "      <td>Gansu</td>\n",
       "      <td>Mainland China</td>\n",
       "      <td>36.06110</td>\n",
       "      <td>103.8343</td>\n",
       "      <td>NaN</td>\n",
       "      <td>NaN</td>\n",
       "      <td>2.0</td>\n",
       "      <td>2.0</td>\n",
       "      <td>2.0</td>\n",
       "      <td>4.0</td>\n",
       "      <td>...</td>\n",
       "      <td>57.0</td>\n",
       "      <td>62.0</td>\n",
       "      <td>62.0</td>\n",
       "      <td>62.0</td>\n",
       "      <td>67</td>\n",
       "      <td>71</td>\n",
       "      <td>79</td>\n",
       "      <td>79</td>\n",
       "      <td>79</td>\n",
       "      <td>83</td>\n",
       "    </tr>\n",
       "  </tbody>\n",
       "</table>\n",
       "<p>5 rows × 40 columns</p>\n",
       "</div>"
      ],
      "text/plain": [
       "  Province/State  Country/Region       Lat      Long  1/21/20 22:00  \\\n",
       "0          Anhui  Mainland China  31.82571  117.2264            NaN   \n",
       "1        Beijing  Mainland China  40.18238  116.4142           10.0   \n",
       "2      Chongqing  Mainland China  30.05718  107.8740            5.0   \n",
       "3         Fujian  Mainland China  26.07783  117.9895            NaN   \n",
       "4          Gansu  Mainland China  36.06110  103.8343            NaN   \n",
       "\n",
       "   1/22/20 12:00  1/23/20 12:00  1/24/20 0:00  1/24/20 12:00  1/25/20 0:00  \\\n",
       "0            1.0            9.0          15.0           15.0          39.0   \n",
       "1           14.0           22.0          26.0           36.0          36.0   \n",
       "2            6.0            9.0          27.0           27.0          57.0   \n",
       "3            1.0            5.0           5.0           10.0          10.0   \n",
       "4            NaN            2.0           2.0            2.0           4.0   \n",
       "\n",
       "   ...  02/05/20 9:00  02/05/20 23:00  02/06/20 9:00  02/06/20 14:20  \\\n",
       "0  ...          530.0           591.0          591.0           591.0   \n",
       "1  ...          253.0           274.0          274.0           274.0   \n",
       "2  ...          376.0           389.0          400.0           400.0   \n",
       "3  ...          205.0           215.0          215.0           215.0   \n",
       "4  ...           57.0            62.0           62.0            62.0   \n",
       "\n",
       "   02/07/20 20:13  02/07/20 22:50  02/08/20 22:04  02/08/20 23:04  \\\n",
       "0             665             733             733             779   \n",
       "1             297             315             315             326   \n",
       "2             415             426             428             446   \n",
       "3             224             239             239             250   \n",
       "4              67              71              79              79   \n",
       "\n",
       "   02/09/20 10:30  02/09/20 23:20  \n",
       "0             779             830  \n",
       "1             326             337  \n",
       "2             450             468  \n",
       "3             250             261  \n",
       "4              79              83  \n",
       "\n",
       "[5 rows x 40 columns]"
      ]
     },
     "execution_count": 18,
     "metadata": {},
     "output_type": "execute_result"
    }
   ],
   "source": [
    "df.head()"
   ]
  },
  {
   "cell_type": "code",
   "execution_count": 19,
   "metadata": {},
   "outputs": [],
   "source": [
    "fig = gmaps.Map()"
   ]
  },
  {
   "cell_type": "code",
   "execution_count": 21,
   "metadata": {},
   "outputs": [],
   "source": [
    "layer = gmaps.symbol_layer(df[['Lat', 'Long']], fill_color='red', stroke_color='red', scale=2)\n",
    "fig.add_layer(layer)"
   ]
  },
  {
   "cell_type": "code",
   "execution_count": 22,
   "metadata": {},
   "outputs": [
    {
     "data": {
      "application/vnd.jupyter.widget-view+json": {
       "model_id": "0ab450bc676c4a3b88a99405449f3e54",
       "version_major": 2,
       "version_minor": 0
      },
      "text/plain": [
       "Map(configuration={'api_key': None}, data_bounds=[(-9.083291942443129, -17.08889861140443), (69.57286055355424…"
      ]
     },
     "metadata": {},
     "output_type": "display_data"
    }
   ],
   "source": [
    "fig"
   ]
  },
  {
   "cell_type": "code",
   "execution_count": null,
   "metadata": {},
   "outputs": [],
   "source": []
  }
 ],
 "metadata": {
  "kernelspec": {
   "display_name": "Python 3",
   "language": "python",
   "name": "python3"
  },
  "language_info": {
   "codemirror_mode": {
    "name": "ipython",
    "version": 3
   },
   "file_extension": ".py",
   "mimetype": "text/x-python",
   "name": "python",
   "nbconvert_exporter": "python",
   "pygments_lexer": "ipython3",
   "version": "3.7.3"
  }
 },
 "nbformat": 4,
 "nbformat_minor": 2
}
