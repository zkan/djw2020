{
 "cells": [
  {
   "cell_type": "code",
   "execution_count": 1,
   "metadata": {},
   "outputs": [],
   "source": [
    "import pandas as pd"
   ]
  },
  {
   "cell_type": "code",
   "execution_count": 2,
   "metadata": {},
   "outputs": [],
   "source": [
    "df = pd.read_csv('wage.csv')"
   ]
  },
  {
   "cell_type": "code",
   "execution_count": 3,
   "metadata": {},
   "outputs": [
    {
     "data": {
      "text/html": [
       "<div>\n",
       "<style scoped>\n",
       "    .dataframe tbody tr th:only-of-type {\n",
       "        vertical-align: middle;\n",
       "    }\n",
       "\n",
       "    .dataframe tbody tr th {\n",
       "        vertical-align: top;\n",
       "    }\n",
       "\n",
       "    .dataframe thead th {\n",
       "        text-align: right;\n",
       "    }\n",
       "</style>\n",
       "<table border=\"1\" class=\"dataframe\">\n",
       "  <thead>\n",
       "    <tr style=\"text-align: right;\">\n",
       "      <th></th>\n",
       "      <th>Major</th>\n",
       "      <th>Major_category</th>\n",
       "      <th>Total</th>\n",
       "      <th>STEM</th>\n",
       "      <th>BUSINESS</th>\n",
       "      <th>%Women</th>\n",
       "      <th>%PartTime</th>\n",
       "      <th>%Unemployed</th>\n",
       "      <th>%CollegeJob</th>\n",
       "      <th>MedianWage</th>\n",
       "    </tr>\n",
       "  </thead>\n",
       "  <tbody>\n",
       "    <tr>\n",
       "      <th>0</th>\n",
       "      <td>FOOD SCIENCE</td>\n",
       "      <td>Agriculture &amp; Natural Resources</td>\n",
       "      <td>4361</td>\n",
       "      <td>0</td>\n",
       "      <td>0</td>\n",
       "      <td>22.27%</td>\n",
       "      <td>25.71%</td>\n",
       "      <td>9.69%</td>\n",
       "      <td>40.21%</td>\n",
       "      <td>53000</td>\n",
       "    </tr>\n",
       "    <tr>\n",
       "      <th>1</th>\n",
       "      <td>AGRICULTURE PRODUCTION AND MANAGEMENT</td>\n",
       "      <td>Agriculture &amp; Natural Resources</td>\n",
       "      <td>14240</td>\n",
       "      <td>0</td>\n",
       "      <td>0</td>\n",
       "      <td>59.42%</td>\n",
       "      <td>15.42%</td>\n",
       "      <td>5.00%</td>\n",
       "      <td>20.25%</td>\n",
       "      <td>40000</td>\n",
       "    </tr>\n",
       "    <tr>\n",
       "      <th>2</th>\n",
       "      <td>GENERAL AGRICULTURE</td>\n",
       "      <td>Agriculture &amp; Natural Resources</td>\n",
       "      <td>10399</td>\n",
       "      <td>0</td>\n",
       "      <td>0</td>\n",
       "      <td>51.55%</td>\n",
       "      <td>19.53%</td>\n",
       "      <td>1.96%</td>\n",
       "      <td>30.32%</td>\n",
       "      <td>40000</td>\n",
       "    </tr>\n",
       "    <tr>\n",
       "      <th>3</th>\n",
       "      <td>AGRICULTURAL ECONOMICS</td>\n",
       "      <td>Agriculture &amp; Natural Resources</td>\n",
       "      <td>2439</td>\n",
       "      <td>0</td>\n",
       "      <td>0</td>\n",
       "      <td>58.97%</td>\n",
       "      <td>25.42%</td>\n",
       "      <td>7.72%</td>\n",
       "      <td>35.15%</td>\n",
       "      <td>40000</td>\n",
       "    </tr>\n",
       "    <tr>\n",
       "      <th>4</th>\n",
       "      <td>NATURAL RESOURCES MANAGEMENT</td>\n",
       "      <td>Agriculture &amp; Natural Resources</td>\n",
       "      <td>13773</td>\n",
       "      <td>0</td>\n",
       "      <td>0</td>\n",
       "      <td>56.46%</td>\n",
       "      <td>18.97%</td>\n",
       "      <td>6.66%</td>\n",
       "      <td>37.53%</td>\n",
       "      <td>35000</td>\n",
       "    </tr>\n",
       "  </tbody>\n",
       "</table>\n",
       "</div>"
      ],
      "text/plain": [
       "                                   Major                   Major_category  \\\n",
       "0                           FOOD SCIENCE  Agriculture & Natural Resources   \n",
       "1  AGRICULTURE PRODUCTION AND MANAGEMENT  Agriculture & Natural Resources   \n",
       "2                    GENERAL AGRICULTURE  Agriculture & Natural Resources   \n",
       "3                 AGRICULTURAL ECONOMICS  Agriculture & Natural Resources   \n",
       "4           NATURAL RESOURCES MANAGEMENT  Agriculture & Natural Resources   \n",
       "\n",
       "   Total  STEM  BUSINESS  %Women %PartTime %Unemployed %CollegeJob  MedianWage  \n",
       "0   4361     0         0  22.27%    25.71%       9.69%      40.21%       53000  \n",
       "1  14240     0         0  59.42%    15.42%       5.00%      20.25%       40000  \n",
       "2  10399     0         0  51.55%    19.53%       1.96%      30.32%       40000  \n",
       "3   2439     0         0  58.97%    25.42%       7.72%      35.15%       40000  \n",
       "4  13773     0         0  56.46%    18.97%       6.66%      37.53%       35000  "
      ]
     },
     "execution_count": 3,
     "metadata": {},
     "output_type": "execute_result"
    }
   ],
   "source": [
    "df.head()"
   ]
  },
  {
   "cell_type": "code",
   "execution_count": null,
   "metadata": {},
   "outputs": [],
   "source": []
  }
 ],
 "metadata": {
  "kernelspec": {
   "display_name": "Python 3",
   "language": "python",
   "name": "python3"
  },
  "language_info": {
   "codemirror_mode": {
    "name": "ipython",
    "version": 3
   },
   "file_extension": ".py",
   "mimetype": "text/x-python",
   "name": "python",
   "nbconvert_exporter": "python",
   "pygments_lexer": "ipython3",
   "version": "3.7.3"
  }
 },
 "nbformat": 4,
 "nbformat_minor": 2
}
